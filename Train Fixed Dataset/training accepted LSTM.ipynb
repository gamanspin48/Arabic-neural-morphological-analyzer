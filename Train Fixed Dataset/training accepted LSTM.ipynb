{
 "cells": [
  {
   "cell_type": "code",
   "execution_count": 2,
   "metadata": {},
   "outputs": [
    {
     "name": "stderr",
     "output_type": "stream",
     "text": [
      "Using TensorFlow backend.\n"
     ]
    }
   ],
   "source": [
    "from keras.models import Sequential\n",
    "from keras.layers import SimpleRNN, LSTM\n",
    "from keras.layers import Dense\n",
    "from keras.layers import Embedding, SpatialDropout1D"
   ]
  },
  {
   "cell_type": "code",
   "execution_count": 1,
   "metadata": {},
   "outputs": [
    {
     "data": {
      "text/plain": [
       "(24748, 12)"
      ]
     },
     "execution_count": 1,
     "metadata": {},
     "output_type": "execute_result"
    }
   ],
   "source": [
    "import pandas as pd\n",
    "import numpy as np\n",
    "data_input = pd.ExcelFile('data training vector.xlsx').parse(0)\n",
    "X_data = data_input.X.to_numpy()\n",
    "y_train = data_input.y.to_numpy()\n",
    "X = []\n",
    "for i in range(0,len(X_data)):\n",
    "    X.append(np.fromstring(X_data[i],sep=' '))\n",
    "X_train = np.asarray(X)\n",
    "X_train.shape"
   ]
  },
  {
   "cell_type": "code",
   "execution_count": 3,
   "metadata": {},
   "outputs": [
    {
     "data": {
      "text/plain": [
       "(6188, 12)"
      ]
     },
     "execution_count": 3,
     "metadata": {},
     "output_type": "execute_result"
    }
   ],
   "source": [
    "import pandas as pd\n",
    "import numpy as np\n",
    "data_input = pd.ExcelFile('data testing vector.xlsx').parse(0)\n",
    "X_data = data_input.X.to_numpy()\n",
    "y_test = data_input.y.to_numpy()\n",
    "X = []\n",
    "for i in range(0,len(X_data)):\n",
    "    X.append(np.fromstring(X_data[i],sep=' '))\n",
    "X_test = np.asarray(X)\n",
    "X_test.shape"
   ]
  },
  {
   "cell_type": "code",
   "execution_count": 4,
   "metadata": {},
   "outputs": [
    {
     "name": "stdout",
     "output_type": "stream",
     "text": [
      "Model: \"sequential\"\n",
      "_________________________________________________________________\n",
      "Layer (type)                 Output Shape              Param #   \n",
      "=================================================================\n",
      "embedding (Embedding)        (None, 12, 10)            247480    \n",
      "_________________________________________________________________\n",
      "lstm (LSTM)                  (None, 12, 128)           71168     \n",
      "_________________________________________________________________\n",
      "lstm_1 (LSTM)                (None, 128)               131584    \n",
      "_________________________________________________________________\n",
      "dense (Dense)                (None, 15)                1935      \n",
      "=================================================================\n",
      "Total params: 452,167\n",
      "Trainable params: 452,167\n",
      "Non-trainable params: 0\n",
      "_________________________________________________________________\n"
     ]
    }
   ],
   "source": [
    "model = Sequential([\n",
    "    \n",
    "Embedding(input_dim=X_train.shape[0], output_dim=10, input_length=X_train.shape[1]), # embedding\n",
    "\n",
    "LSTM(128, return_sequences=True), # rnn\n",
    "\n",
    "LSTM(128), # rnn\n",
    "\n",
    "Dense(15,activation='softmax')  # dense\n",
    "])\n",
    "model.summary()"
   ]
  },
  {
   "cell_type": "code",
   "execution_count": 6,
   "metadata": {},
   "outputs": [
    {
     "name": "stdout",
     "output_type": "stream",
     "text": [
      "Epoch 1/50\n",
      "97/97 - 26s - loss: 1.2041 - accuracy: 0.5659\n",
      "Epoch 2/50\n",
      "97/97 - 13s - loss: 0.9596 - accuracy: 0.6352\n",
      "Epoch 3/50\n",
      "97/97 - 13s - loss: 0.8283 - accuracy: 0.6847\n",
      "Epoch 4/50\n",
      "97/97 - 13s - loss: 0.7574 - accuracy: 0.7116\n",
      "Epoch 5/50\n",
      "97/97 - 13s - loss: 0.7000 - accuracy: 0.7296\n",
      "Epoch 6/50\n",
      "97/97 - 13s - loss: 0.6630 - accuracy: 0.7434\n",
      "Epoch 7/50\n",
      "97/97 - 14s - loss: 0.6240 - accuracy: 0.7578\n",
      "Epoch 8/50\n",
      "97/97 - 13s - loss: 0.5831 - accuracy: 0.7750\n",
      "Epoch 9/50\n",
      "97/97 - 13s - loss: 0.5360 - accuracy: 0.7970\n",
      "Epoch 10/50\n",
      "97/97 - 12s - loss: 0.4862 - accuracy: 0.8140\n",
      "Epoch 11/50\n",
      "97/97 - 13s - loss: 0.4513 - accuracy: 0.8288\n",
      "Epoch 12/50\n",
      "97/97 - 13s - loss: 0.4133 - accuracy: 0.8445\n",
      "Epoch 13/50\n",
      "97/97 - 13s - loss: 0.3949 - accuracy: 0.8505\n",
      "Epoch 14/50\n",
      "97/97 - 13s - loss: 0.3654 - accuracy: 0.8644\n",
      "Epoch 15/50\n",
      "97/97 - 13s - loss: 0.3583 - accuracy: 0.8665\n",
      "Epoch 16/50\n",
      "97/97 - 13s - loss: 0.3159 - accuracy: 0.8830\n",
      "Epoch 17/50\n",
      "97/97 - 13s - loss: 0.3078 - accuracy: 0.8876\n",
      "Epoch 18/50\n",
      "97/97 - 13s - loss: 0.2918 - accuracy: 0.8918\n",
      "Epoch 19/50\n",
      "97/97 - 13s - loss: 0.2790 - accuracy: 0.8988\n",
      "Epoch 20/50\n",
      "97/97 - 13s - loss: 0.2495 - accuracy: 0.9112\n",
      "Epoch 21/50\n",
      "97/97 - 13s - loss: 0.2290 - accuracy: 0.9185\n",
      "Epoch 22/50\n",
      "97/97 - 13s - loss: 0.2208 - accuracy: 0.9203\n",
      "Epoch 23/50\n",
      "97/97 - 13s - loss: 0.2084 - accuracy: 0.9256\n",
      "Epoch 24/50\n",
      "97/97 - 13s - loss: 0.1891 - accuracy: 0.9342\n",
      "Epoch 25/50\n",
      "97/97 - 13s - loss: 0.1698 - accuracy: 0.9421\n",
      "Epoch 26/50\n",
      "97/97 - 13s - loss: 0.1505 - accuracy: 0.9505\n",
      "Epoch 27/50\n",
      "97/97 - 12s - loss: 0.1555 - accuracy: 0.9474\n",
      "Epoch 28/50\n",
      "97/97 - 13s - loss: 0.1505 - accuracy: 0.9492\n",
      "Epoch 29/50\n",
      "97/97 - 13s - loss: 0.1245 - accuracy: 0.9614\n",
      "Epoch 30/50\n",
      "97/97 - 13s - loss: 0.1206 - accuracy: 0.9622\n",
      "Epoch 31/50\n",
      "97/97 - 13s - loss: 0.1088 - accuracy: 0.9645\n",
      "Epoch 32/50\n",
      "97/97 - 13s - loss: 0.1060 - accuracy: 0.9660\n",
      "Epoch 33/50\n",
      "97/97 - 13s - loss: 0.0914 - accuracy: 0.9717\n",
      "Epoch 34/50\n",
      "97/97 - 13s - loss: 0.0845 - accuracy: 0.9743\n",
      "Epoch 35/50\n",
      "97/97 - 13s - loss: 0.0907 - accuracy: 0.9714\n",
      "Epoch 36/50\n",
      "97/97 - 13s - loss: 0.0806 - accuracy: 0.9735\n",
      "Epoch 37/50\n",
      "97/97 - 13s - loss: 0.0811 - accuracy: 0.9746\n",
      "Epoch 38/50\n",
      "97/97 - 13s - loss: 0.0702 - accuracy: 0.9779\n",
      "Epoch 39/50\n",
      "97/97 - 13s - loss: 0.0620 - accuracy: 0.9813\n",
      "Epoch 40/50\n",
      "97/97 - 13s - loss: 0.0547 - accuracy: 0.9828\n",
      "Epoch 41/50\n",
      "97/97 - 13s - loss: 0.0561 - accuracy: 0.9826\n",
      "Epoch 42/50\n",
      "97/97 - 13s - loss: 0.0748 - accuracy: 0.9745\n",
      "Epoch 43/50\n",
      "97/97 - 13s - loss: 0.0884 - accuracy: 0.9703\n",
      "Epoch 44/50\n",
      "97/97 - 13s - loss: 0.0518 - accuracy: 0.9846\n",
      "Epoch 45/50\n",
      "97/97 - 13s - loss: 0.0429 - accuracy: 0.9874\n",
      "Epoch 46/50\n",
      "97/97 - 13s - loss: 0.0416 - accuracy: 0.9869\n",
      "Epoch 47/50\n",
      "97/97 - 13s - loss: 0.0546 - accuracy: 0.9822\n",
      "Epoch 48/50\n",
      "97/97 - 13s - loss: 0.0504 - accuracy: 0.9834\n",
      "Epoch 49/50\n",
      "97/97 - 13s - loss: 0.0375 - accuracy: 0.9884\n",
      "Epoch 50/50\n",
      "97/97 - 13s - loss: 0.0460 - accuracy: 0.9852\n",
      "194/194 [==============================] - 4s 13ms/step - loss: 0.1054 - accuracy: 0.9664 0s - loss: 0\n"
     ]
    }
   ],
   "source": [
    "model.compile(loss='sparse_categorical_crossentropy', optimizer='adam', metrics=['accuracy'])\n",
    "\n",
    "history = model.fit(X_train, y_train,epochs=50, batch_size=256, verbose=2)\n",
    "scores = model.evaluate(X_test, y_test)"
   ]
  },
  {
   "cell_type": "code",
   "execution_count": 6,
   "metadata": {},
   "outputs": [
    {
     "name": "stdout",
     "output_type": "stream",
     "text": [
      "Accuracy: 95.26%\n"
     ]
    }
   ],
   "source": [
    "print(\"Accuracy: %.2f%%\" % (scores[1]*100))\n",
    "# Menampilkan grafik accuracy dan validation accuracy"
   ]
  },
  {
   "cell_type": "code",
   "execution_count": 7,
   "metadata": {},
   "outputs": [],
   "source": [
    "yhatS = []\n",
    "for x in X_test:\n",
    "    yhat = model.predict(np.expand_dims(x,0))\n",
    "    yhatS.append(np.argsort(yhat[0])[-1])"
   ]
  },
  {
   "cell_type": "code",
   "execution_count": null,
   "metadata": {},
   "outputs": [],
   "source": []
  },
  {
   "cell_type": "code",
   "execution_count": 8,
   "metadata": {},
   "outputs": [
    {
     "name": "stdout",
     "output_type": "stream",
     "text": [
      "0.95260663507109\n"
     ]
    }
   ],
   "source": [
    "from sklearn.metrics import accuracy_score, f1_score, precision_score, recall_score\n",
    "print(accuracy_score(y_test,yhatS))"
   ]
  },
  {
   "cell_type": "code",
   "execution_count": 9,
   "metadata": {},
   "outputs": [
    {
     "name": "stderr",
     "output_type": "stream",
     "text": [
      "c:\\users\\nuras\\appdata\\local\\programs\\python\\python37\\lib\\site-packages\\sklearn\\metrics\\_classification.py:1221: UndefinedMetricWarning: Precision is ill-defined and being set to 0.0 in labels with no predicted samples. Use `zero_division` parameter to control this behavior.\n",
      "  _warn_prf(average, modifier, msg_start, len(result))\n"
     ]
    },
    {
     "data": {
      "text/plain": [
       "0.7461014171213848"
      ]
     },
     "execution_count": 9,
     "metadata": {},
     "output_type": "execute_result"
    }
   ],
   "source": [
    "precision_score(y_test,yhatS,average='macro')"
   ]
  },
  {
   "cell_type": "code",
   "execution_count": 10,
   "metadata": {},
   "outputs": [
    {
     "data": {
      "text/plain": [
       "0.7703093203093203"
      ]
     },
     "execution_count": 10,
     "metadata": {},
     "output_type": "execute_result"
    }
   ],
   "source": [
    "recall_score(y_test,yhatS,average='macro')"
   ]
  },
  {
   "cell_type": "code",
   "execution_count": 11,
   "metadata": {},
   "outputs": [
    {
     "data": {
      "text/plain": [
       "0.7569230907101034"
      ]
     },
     "execution_count": 11,
     "metadata": {},
     "output_type": "execute_result"
    }
   ],
   "source": [
    "f1_score(y_test,yhatS,average='macro')"
   ]
  },
  {
   "cell_type": "code",
   "execution_count": 12,
   "metadata": {},
   "outputs": [
    {
     "data": {
      "image/png": "[encoded data removed]",
      "text/plain": [
       "<Figure size 432x288 with 1 Axes>"
      ]
     },
     "metadata": {
      "needs_background": "light"
     },
     "output_type": "display_data"
    }
   ],
   "source": [
    "from matplotlib import pyplot as plt\n",
    "plt.plot(history.history['accuracy'])\n",
    "plt.plot(history.history['loss'])\n",
    "\n",
    "# Tampilkan grafik yang telah diplot\n",
    "plt.show()"
   ]
  },
  {
   "cell_type": "code",
   "execution_count": null,
   "metadata": {},
   "outputs": [],
   "source": []
  }
 ],
 "metadata": {
  "kernelspec": {
   "display_name": "Python 3",
   "language": "python",
   "name": "python3"
  },
  "language_info": {
   "codemirror_mode": {
    "name": "ipython",
    "version": 3
   },
   "file_extension": ".py",
   "mimetype": "text/x-python",
   "name": "python",
   "nbconvert_exporter": "python",
   "pygments_lexer": "ipython3",
   "version": "3.7.9"
  }
 },
 "nbformat": 4,
 "nbformat_minor": 4
}
