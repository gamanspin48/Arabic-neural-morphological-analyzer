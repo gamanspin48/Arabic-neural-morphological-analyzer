{
 "cells": [
  {
   "cell_type": "code",
   "execution_count": 1,
   "metadata": {},
   "outputs": [
    {
     "name": "stderr",
     "output_type": "stream",
     "text": [
      "Using TensorFlow backend.\n"
     ]
    }
   ],
   "source": [
    "from keras.models import Sequential\n",
    "from keras.layers import SimpleRNN\n",
    "from keras.layers import Dense, Flatten, Input\n",
    "from keras.layers import Embedding, SpatialDropout1D\n",
    "import tensorflow as tf"
   ]
  },
  {
   "cell_type": "code",
   "execution_count": 2,
   "metadata": {},
   "outputs": [
    {
     "data": {
      "text/plain": [
       "(24748, 12)"
      ]
     },
     "execution_count": 2,
     "metadata": {},
     "output_type": "execute_result"
    }
   ],
   "source": [
    "import pandas as pd\n",
    "import numpy as np\n",
    "data_input = pd.ExcelFile('data training vector.xlsx').parse(0)\n",
    "X_data = data_input.X.to_numpy()\n",
    "y_train = data_input.y.to_numpy()\n",
    "X = []\n",
    "for i in range(0,len(X_data)):\n",
    "    X.append(np.fromstring(X_data[i],sep=' '))\n",
    "X_train = np.asarray(X)\n",
    "X_train.shape"
   ]
  },
  {
   "cell_type": "code",
   "execution_count": 3,
   "metadata": {},
   "outputs": [
    {
     "data": {
      "text/plain": [
       "(6188, 12)"
      ]
     },
     "execution_count": 3,
     "metadata": {},
     "output_type": "execute_result"
    }
   ],
   "source": [
    "import pandas as pd\n",
    "import numpy as np\n",
    "data_input = pd.ExcelFile('data testing vector.xlsx').parse(0)\n",
    "X_data = data_input.X.to_numpy()\n",
    "y_test = data_input.y.to_numpy()\n",
    "X = []\n",
    "for i in range(0,len(X_data)):\n",
    "    X.append(np.fromstring(X_data[i],sep=' '))\n",
    "X_test = np.asarray(X)\n",
    "X_test.shape"
   ]
  },
  {
   "cell_type": "code",
   "execution_count": 6,
   "metadata": {},
   "outputs": [
    {
     "name": "stdout",
     "output_type": "stream",
     "text": [
      "Model: \"sequential_1\"\n",
      "_________________________________________________________________\n",
      "Layer (type)                 Output Shape              Param #   \n",
      "=================================================================\n",
      "dense_3 (Dense)              (None, 128)               1664      \n",
      "_________________________________________________________________\n",
      "dense_4 (Dense)              (None, 128)               16512     \n",
      "_________________________________________________________________\n",
      "dense_5 (Dense)              (None, 15)                1935      \n",
      "=================================================================\n",
      "Total params: 20,111\n",
      "Trainable params: 20,111\n",
      "Non-trainable params: 0\n",
      "_________________________________________________________________\n"
     ]
    }
   ],
   "source": [
    "model = Sequential([\n",
    "    \n",
    "Input(shape=(12,)),\n",
    "Dense(128,'relu'), # dense\n",
    "Dense(128,'relu'), # dense\n",
    "Dense(15,activation='softmax')  # dense\n",
    "])\n",
    "model.summary()"
   ]
  },
  {
   "cell_type": "code",
   "execution_count": 9,
   "metadata": {},
   "outputs": [
    {
     "name": "stdout",
     "output_type": "stream",
     "text": [
      "Epoch 1/150\n",
      "97/97 - 2s - loss: 0.4493 - accuracy: 0.8194\n",
      "Epoch 2/150\n",
      "97/97 - 0s - loss: 0.4328 - accuracy: 0.8279\n",
      "Epoch 3/150\n",
      "97/97 - 0s - loss: 0.4279 - accuracy: 0.8289\n",
      "Epoch 4/150\n",
      "97/97 - 0s - loss: 0.4203 - accuracy: 0.8324\n",
      "Epoch 5/150\n",
      "97/97 - 0s - loss: 0.4180 - accuracy: 0.8342\n",
      "Epoch 6/150\n",
      "97/97 - 0s - loss: 0.4072 - accuracy: 0.8393\n",
      "Epoch 7/150\n",
      "97/97 - 0s - loss: 0.4159 - accuracy: 0.8301\n",
      "Epoch 8/150\n",
      "97/97 - 0s - loss: 0.4035 - accuracy: 0.8390\n",
      "Epoch 9/150\n",
      "97/97 - 0s - loss: 0.3997 - accuracy: 0.8393\n",
      "Epoch 10/150\n",
      "97/97 - 0s - loss: 0.4039 - accuracy: 0.8372\n",
      "Epoch 11/150\n",
      "97/97 - 0s - loss: 0.3988 - accuracy: 0.8389\n",
      "Epoch 12/150\n",
      "97/97 - 0s - loss: 0.3864 - accuracy: 0.8448\n",
      "Epoch 13/150\n",
      "97/97 - 0s - loss: 0.3813 - accuracy: 0.8479\n",
      "Epoch 14/150\n",
      "97/97 - 0s - loss: 0.3801 - accuracy: 0.8468\n",
      "Epoch 15/150\n",
      "97/97 - 0s - loss: 0.3775 - accuracy: 0.8474\n",
      "Epoch 16/150\n",
      "97/97 - 0s - loss: 0.3775 - accuracy: 0.8456\n",
      "Epoch 17/150\n",
      "97/97 - 0s - loss: 0.3750 - accuracy: 0.8469\n",
      "Epoch 18/150\n",
      "97/97 - 0s - loss: 0.3637 - accuracy: 0.8536\n",
      "Epoch 19/150\n",
      "97/97 - 0s - loss: 0.3601 - accuracy: 0.8547\n",
      "Epoch 20/150\n",
      "97/97 - 0s - loss: 0.3672 - accuracy: 0.8521\n",
      "Epoch 21/150\n",
      "97/97 - 0s - loss: 0.3557 - accuracy: 0.8578\n",
      "Epoch 22/150\n",
      "97/97 - 0s - loss: 0.3492 - accuracy: 0.8595\n",
      "Epoch 23/150\n",
      "97/97 - 0s - loss: 0.3453 - accuracy: 0.8623\n",
      "Epoch 24/150\n",
      "97/97 - 0s - loss: 0.3485 - accuracy: 0.8574\n",
      "Epoch 25/150\n",
      "97/97 - 0s - loss: 0.3435 - accuracy: 0.8620\n",
      "Epoch 26/150\n",
      "97/97 - 0s - loss: 0.3391 - accuracy: 0.8616\n",
      "Epoch 27/150\n",
      "97/97 - 0s - loss: 0.3393 - accuracy: 0.8625\n",
      "Epoch 28/150\n",
      "97/97 - 0s - loss: 0.3305 - accuracy: 0.8666\n",
      "Epoch 29/150\n",
      "97/97 - 0s - loss: 0.3336 - accuracy: 0.8656\n",
      "Epoch 30/150\n",
      "97/97 - 0s - loss: 0.3233 - accuracy: 0.8686\n",
      "Epoch 31/150\n",
      "97/97 - 0s - loss: 0.3271 - accuracy: 0.8688\n",
      "Epoch 32/150\n",
      "97/97 - 0s - loss: 0.3240 - accuracy: 0.8675\n",
      "Epoch 33/150\n",
      "97/97 - 0s - loss: 0.3225 - accuracy: 0.8689\n",
      "Epoch 34/150\n",
      "97/97 - 0s - loss: 0.3257 - accuracy: 0.8659\n",
      "Epoch 35/150\n",
      "97/97 - 0s - loss: 0.3130 - accuracy: 0.8726\n",
      "Epoch 36/150\n",
      "97/97 - 0s - loss: 0.3085 - accuracy: 0.8744\n",
      "Epoch 37/150\n",
      "97/97 - 0s - loss: 0.3149 - accuracy: 0.8733\n",
      "Epoch 38/150\n",
      "97/97 - 0s - loss: 0.3121 - accuracy: 0.8737\n",
      "Epoch 39/150\n",
      "97/97 - 0s - loss: 0.3065 - accuracy: 0.8766\n",
      "Epoch 40/150\n",
      "97/97 - 0s - loss: 0.3027 - accuracy: 0.8783\n",
      "Epoch 41/150\n",
      "97/97 - 0s - loss: 0.3121 - accuracy: 0.8741\n",
      "Epoch 42/150\n",
      "97/97 - 0s - loss: 0.2998 - accuracy: 0.8780\n",
      "Epoch 43/150\n",
      "97/97 - 0s - loss: 0.2993 - accuracy: 0.8804\n",
      "Epoch 44/150\n",
      "97/97 - 0s - loss: 0.2951 - accuracy: 0.8800\n",
      "Epoch 45/150\n",
      "97/97 - 0s - loss: 0.2883 - accuracy: 0.8829\n",
      "Epoch 46/150\n",
      "97/97 - 0s - loss: 0.2987 - accuracy: 0.8784\n",
      "Epoch 47/150\n",
      "97/97 - 0s - loss: 0.2798 - accuracy: 0.8866\n",
      "Epoch 48/150\n",
      "97/97 - 0s - loss: 0.2846 - accuracy: 0.8848\n",
      "Epoch 49/150\n",
      "97/97 - 0s - loss: 0.2860 - accuracy: 0.8857\n",
      "Epoch 50/150\n",
      "97/97 - 0s - loss: 0.2908 - accuracy: 0.8817\n",
      "Epoch 51/150\n",
      "97/97 - 0s - loss: 0.2803 - accuracy: 0.8855\n",
      "Epoch 52/150\n",
      "97/97 - 0s - loss: 0.2773 - accuracy: 0.8863\n",
      "Epoch 53/150\n",
      "97/97 - 0s - loss: 0.2787 - accuracy: 0.8873\n",
      "Epoch 54/150\n",
      "97/97 - 0s - loss: 0.2865 - accuracy: 0.8831\n",
      "Epoch 55/150\n",
      "97/97 - 0s - loss: 0.2704 - accuracy: 0.8885\n",
      "Epoch 56/150\n",
      "97/97 - 0s - loss: 0.2805 - accuracy: 0.8852\n",
      "Epoch 57/150\n",
      "97/97 - 0s - loss: 0.2731 - accuracy: 0.8895\n",
      "Epoch 58/150\n",
      "97/97 - 0s - loss: 0.2652 - accuracy: 0.8927\n",
      "Epoch 59/150\n",
      "97/97 - 0s - loss: 0.2646 - accuracy: 0.8910\n",
      "Epoch 60/150\n",
      "97/97 - 0s - loss: 0.2720 - accuracy: 0.8872\n",
      "Epoch 61/150\n",
      "97/97 - 0s - loss: 0.2615 - accuracy: 0.8957\n",
      "Epoch 62/150\n",
      "97/97 - 0s - loss: 0.2611 - accuracy: 0.8949\n",
      "Epoch 63/150\n",
      "97/97 - 0s - loss: 0.2683 - accuracy: 0.8906\n",
      "Epoch 64/150\n",
      "97/97 - 0s - loss: 0.2627 - accuracy: 0.8917\n",
      "Epoch 65/150\n",
      "97/97 - 0s - loss: 0.2554 - accuracy: 0.8952\n",
      "Epoch 66/150\n",
      "97/97 - 0s - loss: 0.2600 - accuracy: 0.8961\n",
      "Epoch 67/150\n",
      "97/97 - 0s - loss: 0.2518 - accuracy: 0.8993\n",
      "Epoch 68/150\n",
      "97/97 - 0s - loss: 0.2578 - accuracy: 0.8960\n",
      "Epoch 69/150\n",
      "97/97 - 0s - loss: 0.2506 - accuracy: 0.8978\n",
      "Epoch 70/150\n",
      "97/97 - 0s - loss: 0.2453 - accuracy: 0.8994\n",
      "Epoch 71/150\n",
      "97/97 - 0s - loss: 0.2449 - accuracy: 0.9023\n",
      "Epoch 72/150\n",
      "97/97 - 0s - loss: 0.2497 - accuracy: 0.8972\n",
      "Epoch 73/150\n",
      "97/97 - 0s - loss: 0.2490 - accuracy: 0.8982\n",
      "Epoch 74/150\n",
      "97/97 - 0s - loss: 0.2488 - accuracy: 0.9000\n",
      "Epoch 75/150\n",
      "97/97 - 0s - loss: 0.2424 - accuracy: 0.9008\n",
      "Epoch 76/150\n",
      "97/97 - 0s - loss: 0.2395 - accuracy: 0.9018\n",
      "Epoch 77/150\n",
      "97/97 - 0s - loss: 0.2429 - accuracy: 0.9032\n",
      "Epoch 78/150\n",
      "97/97 - 0s - loss: 0.2411 - accuracy: 0.9008\n",
      "Epoch 79/150\n",
      "97/97 - 0s - loss: 0.2476 - accuracy: 0.8984\n",
      "Epoch 80/150\n",
      "97/97 - 0s - loss: 0.2389 - accuracy: 0.9041\n",
      "Epoch 81/150\n",
      "97/97 - 0s - loss: 0.2363 - accuracy: 0.9037\n",
      "Epoch 82/150\n",
      "97/97 - 0s - loss: 0.2411 - accuracy: 0.9005\n",
      "Epoch 83/150\n",
      "97/97 - 0s - loss: 0.2319 - accuracy: 0.9061\n",
      "Epoch 84/150\n",
      "97/97 - 0s - loss: 0.2395 - accuracy: 0.9031\n",
      "Epoch 85/150\n",
      "97/97 - 0s - loss: 0.2324 - accuracy: 0.9043\n",
      "Epoch 86/150\n",
      "97/97 - 0s - loss: 0.2313 - accuracy: 0.9046\n",
      "Epoch 87/150\n",
      "97/97 - 0s - loss: 0.2341 - accuracy: 0.9038\n",
      "Epoch 88/150\n",
      "97/97 - 0s - loss: 0.2278 - accuracy: 0.9053\n",
      "Epoch 89/150\n",
      "97/97 - 0s - loss: 0.2273 - accuracy: 0.9074\n",
      "Epoch 90/150\n",
      "97/97 - 0s - loss: 0.2250 - accuracy: 0.9098\n",
      "Epoch 91/150\n",
      "97/97 - 0s - loss: 0.2348 - accuracy: 0.9051\n",
      "Epoch 92/150\n",
      "97/97 - 0s - loss: 0.2256 - accuracy: 0.9093\n",
      "Epoch 93/150\n",
      "97/97 - 0s - loss: 0.2213 - accuracy: 0.9113\n",
      "Epoch 94/150\n",
      "97/97 - 0s - loss: 0.2234 - accuracy: 0.9089\n",
      "Epoch 95/150\n",
      "97/97 - 0s - loss: 0.2234 - accuracy: 0.9107\n",
      "Epoch 96/150\n",
      "97/97 - 0s - loss: 0.2270 - accuracy: 0.9062\n",
      "Epoch 97/150\n",
      "97/97 - 0s - loss: 0.2241 - accuracy: 0.9083\n",
      "Epoch 98/150\n",
      "97/97 - 0s - loss: 0.2178 - accuracy: 0.9112\n",
      "Epoch 99/150\n",
      "97/97 - 0s - loss: 0.2239 - accuracy: 0.9090\n",
      "Epoch 100/150\n",
      "97/97 - 0s - loss: 0.2158 - accuracy: 0.9125\n",
      "Epoch 101/150\n",
      "97/97 - 0s - loss: 0.2136 - accuracy: 0.9123\n",
      "Epoch 102/150\n",
      "97/97 - 0s - loss: 0.2130 - accuracy: 0.9132\n",
      "Epoch 103/150\n",
      "97/97 - 0s - loss: 0.2197 - accuracy: 0.9112\n",
      "Epoch 104/150\n",
      "97/97 - 0s - loss: 0.2091 - accuracy: 0.9158\n",
      "Epoch 105/150\n",
      "97/97 - 0s - loss: 0.2093 - accuracy: 0.9148\n",
      "Epoch 106/150\n",
      "97/97 - 0s - loss: 0.2067 - accuracy: 0.9165\n",
      "Epoch 107/150\n",
      "97/97 - 0s - loss: 0.2134 - accuracy: 0.9128\n",
      "Epoch 108/150\n",
      "97/97 - 0s - loss: 0.2113 - accuracy: 0.9149\n",
      "Epoch 109/150\n",
      "97/97 - 0s - loss: 0.2079 - accuracy: 0.9157\n",
      "Epoch 110/150\n",
      "97/97 - 0s - loss: 0.2150 - accuracy: 0.9119\n",
      "Epoch 111/150\n",
      "97/97 - 0s - loss: 0.2088 - accuracy: 0.9151\n",
      "Epoch 112/150\n",
      "97/97 - 0s - loss: 0.2087 - accuracy: 0.9183\n",
      "Epoch 113/150\n",
      "97/97 - 0s - loss: 0.2165 - accuracy: 0.9148\n",
      "Epoch 114/150\n",
      "97/97 - 0s - loss: 0.2072 - accuracy: 0.9166\n",
      "Epoch 115/150\n",
      "97/97 - 0s - loss: 0.1999 - accuracy: 0.9208\n",
      "Epoch 116/150\n",
      "97/97 - 0s - loss: 0.2085 - accuracy: 0.9138\n",
      "Epoch 117/150\n",
      "97/97 - 0s - loss: 0.2057 - accuracy: 0.9168\n",
      "Epoch 118/150\n",
      "97/97 - 0s - loss: 0.2012 - accuracy: 0.9187\n",
      "Epoch 119/150\n",
      "97/97 - 0s - loss: 0.2026 - accuracy: 0.9170\n",
      "Epoch 120/150\n",
      "97/97 - 0s - loss: 0.1979 - accuracy: 0.9210\n",
      "Epoch 121/150\n",
      "97/97 - 0s - loss: 0.1974 - accuracy: 0.9208\n",
      "Epoch 122/150\n",
      "97/97 - 0s - loss: 0.1905 - accuracy: 0.9246\n",
      "Epoch 123/150\n",
      "97/97 - 0s - loss: 0.1970 - accuracy: 0.9179\n",
      "Epoch 124/150\n",
      "97/97 - 0s - loss: 0.1912 - accuracy: 0.9221\n",
      "Epoch 125/150\n",
      "97/97 - 0s - loss: 0.1941 - accuracy: 0.9210\n",
      "Epoch 126/150\n",
      "97/97 - 0s - loss: 0.2027 - accuracy: 0.9176\n",
      "Epoch 127/150\n",
      "97/97 - 0s - loss: 0.2024 - accuracy: 0.9180\n",
      "Epoch 128/150\n",
      "97/97 - 0s - loss: 0.1944 - accuracy: 0.9202\n",
      "Epoch 129/150\n",
      "97/97 - 0s - loss: 0.1884 - accuracy: 0.9231\n",
      "Epoch 130/150\n",
      "97/97 - 0s - loss: 0.1928 - accuracy: 0.9218\n",
      "Epoch 131/150\n",
      "97/97 - 0s - loss: 0.1823 - accuracy: 0.9273\n",
      "Epoch 132/150\n",
      "97/97 - 0s - loss: 0.1873 - accuracy: 0.9238\n",
      "Epoch 133/150\n",
      "97/97 - 0s - loss: 0.1860 - accuracy: 0.9246\n",
      "Epoch 134/150\n",
      "97/97 - 0s - loss: 0.1862 - accuracy: 0.9242\n",
      "Epoch 135/150\n",
      "97/97 - 0s - loss: 0.1980 - accuracy: 0.9197\n",
      "Epoch 136/150\n",
      "97/97 - 0s - loss: 0.1889 - accuracy: 0.9217\n",
      "Epoch 137/150\n",
      "97/97 - 0s - loss: 0.1791 - accuracy: 0.9285\n",
      "Epoch 138/150\n",
      "97/97 - 0s - loss: 0.1792 - accuracy: 0.9277\n",
      "Epoch 139/150\n",
      "97/97 - 0s - loss: 0.1798 - accuracy: 0.9273\n",
      "Epoch 140/150\n",
      "97/97 - 0s - loss: 0.1836 - accuracy: 0.9272\n",
      "Epoch 141/150\n",
      "97/97 - 0s - loss: 0.1816 - accuracy: 0.9275\n"
     ]
    },
    {
     "name": "stdout",
     "output_type": "stream",
     "text": [
      "Epoch 142/150\n",
      "97/97 - 0s - loss: 0.1813 - accuracy: 0.9267\n",
      "Epoch 143/150\n",
      "97/97 - 0s - loss: 0.1812 - accuracy: 0.9263\n",
      "Epoch 144/150\n",
      "97/97 - 0s - loss: 0.1779 - accuracy: 0.9276\n",
      "Epoch 145/150\n",
      "97/97 - 0s - loss: 0.1770 - accuracy: 0.9273\n",
      "Epoch 146/150\n",
      "97/97 - 0s - loss: 0.1792 - accuracy: 0.9278\n",
      "Epoch 147/150\n",
      "97/97 - 0s - loss: 0.1761 - accuracy: 0.9291\n",
      "Epoch 148/150\n",
      "97/97 - 0s - loss: 0.1753 - accuracy: 0.9301\n",
      "Epoch 149/150\n",
      "97/97 - 0s - loss: 0.1757 - accuracy: 0.9286\n",
      "Epoch 150/150\n",
      "97/97 - 0s - loss: 0.1750 - accuracy: 0.9273\n",
      "194/194 [==============================] - 1s 3ms/step - loss: 0.2024 - accuracy: 0.9187\n"
     ]
    }
   ],
   "source": [
    "model.compile(loss='sparse_categorical_crossentropy', optimizer='adam', metrics=['accuracy'])\n",
    "\n",
    "history = model.fit(X_train, y_train,epochs=150,batch_size=256, verbose=2)\n",
    "scores = model.evaluate(X_test, y_test)"
   ]
  },
  {
   "cell_type": "code",
   "execution_count": 10,
   "metadata": {},
   "outputs": [
    {
     "name": "stdout",
     "output_type": "stream",
     "text": [
      "Accuracy: 91.87%\n"
     ]
    }
   ],
   "source": [
    "print(\"Accuracy: %.2f%%\" % (scores[1]*100))\n",
    "# Menampilkan grafik accuracy dan validation accuracy"
   ]
  },
  {
   "cell_type": "code",
   "execution_count": 125,
   "metadata": {},
   "outputs": [],
   "source": [
    "yhatS = []\n",
    "for x in X_test:\n",
    "    yhat = model.predict(np.expand_dims(x,0))\n",
    "    yhatS.append(np.argsort(yhat[0])[-1])"
   ]
  },
  {
   "cell_type": "code",
   "execution_count": null,
   "metadata": {},
   "outputs": [],
   "source": []
  },
  {
   "cell_type": "code",
   "execution_count": 126,
   "metadata": {},
   "outputs": [
    {
     "name": "stdout",
     "output_type": "stream",
     "text": [
      "0.6303317535545023\n"
     ]
    }
   ],
   "source": [
    "from sklearn.metrics import accuracy_score, f1_score, precision_score, recall_score\n",
    "print(accuracy_score(y_test,yhatS))"
   ]
  },
  {
   "cell_type": "code",
   "execution_count": 127,
   "metadata": {},
   "outputs": [
    {
     "data": {
      "text/plain": [
       "0.4439827233954922"
      ]
     },
     "execution_count": 127,
     "metadata": {},
     "output_type": "execute_result"
    }
   ],
   "source": [
    "precision_score(y_test,yhatS,average='macro')"
   ]
  },
  {
   "cell_type": "code",
   "execution_count": 128,
   "metadata": {},
   "outputs": [
    {
     "data": {
      "text/plain": [
       "0.41700273410799726"
      ]
     },
     "execution_count": 128,
     "metadata": {},
     "output_type": "execute_result"
    }
   ],
   "source": [
    "recall_score(y_test,yhatS,average='macro')"
   ]
  },
  {
   "cell_type": "code",
   "execution_count": 129,
   "metadata": {},
   "outputs": [
    {
     "data": {
      "text/plain": [
       "0.40113239993837013"
      ]
     },
     "execution_count": 129,
     "metadata": {},
     "output_type": "execute_result"
    }
   ],
   "source": [
    "f1_score(y_test,yhatS,average='macro')"
   ]
  },
  {
   "cell_type": "code",
   "execution_count": 130,
   "metadata": {},
   "outputs": [
    {
     "data": {
      "image/png": "[encoded data removed]",
      "text/plain": [
       "<Figure size 432x288 with 1 Axes>"
      ]
     },
     "metadata": {
      "needs_background": "light"
     },
     "output_type": "display_data"
    }
   ],
   "source": [
    "from matplotlib import pyplot as plt\n",
    "plt.plot(history.history['accuracy'])\n",
    "plt.plot(history.history['loss'])\n",
    "\n",
    "# Tampilkan grafik yang telah diplot\n",
    "plt.show()"
   ]
  },
  {
   "cell_type": "code",
   "execution_count": null,
   "metadata": {},
   "outputs": [],
   "source": []
  }
 ],
 "metadata": {
  "kernelspec": {
   "display_name": "Python 3",
   "language": "python",
   "name": "python3"
  },
  "language_info": {
   "codemirror_mode": {
    "name": "ipython",
    "version": 3
   },
   "file_extension": ".py",
   "mimetype": "text/x-python",
   "name": "python",
   "nbconvert_exporter": "python",
   "pygments_lexer": "ipython3",
   "version": "3.7.9"
  }
 },
 "nbformat": 4,
 "nbformat_minor": 4
}
