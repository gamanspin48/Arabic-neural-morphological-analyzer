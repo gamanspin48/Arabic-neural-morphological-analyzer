{
 "cells": [
  {
   "cell_type": "code",
   "execution_count": 1,
   "id": "89e8c6ca",
   "metadata": {},
   "outputs": [],
   "source": [
    "from lang_trans.arabic import buckwalter\n",
    "import pandas as pd\n",
    "import numpy as np"
   ]
  },
  {
   "cell_type": "code",
   "execution_count": 2,
   "id": "4cf92c53",
   "metadata": {
    "scrolled": true
   },
   "outputs": [
    {
     "data": {
      "text/html": [
       "<div>\n",
       "<style scoped>\n",
       "    .dataframe tbody tr th:only-of-type {\n",
       "        vertical-align: middle;\n",
       "    }\n",
       "\n",
       "    .dataframe tbody tr th {\n",
       "        vertical-align: top;\n",
       "    }\n",
       "\n",
       "    .dataframe thead th {\n",
       "        text-align: right;\n",
       "    }\n",
       "</style>\n",
       "<table border=\"1\" class=\"dataframe\">\n",
       "  <thead>\n",
       "    <tr style=\"text-align: right;\">\n",
       "      <th></th>\n",
       "      <th>Arabic</th>\n",
       "      <th>Buckwalter</th>\n",
       "      <th>Pattern</th>\n",
       "      <th>Root</th>\n",
       "      <th>Vector</th>\n",
       "      <th>Wazan</th>\n",
       "      <th>Wazan Index</th>\n",
       "      <th>Type of Word</th>\n",
       "      <th>Dhamir</th>\n",
       "      <th>MSD</th>\n",
       "    </tr>\n",
       "  </thead>\n",
       "  <tbody>\n",
       "    <tr>\n",
       "      <th>0</th>\n",
       "      <td>مَظْلُوْمٌ</td>\n",
       "      <td>maZoluwomN</td>\n",
       "      <td>ma|ouwoN|</td>\n",
       "      <td>Zlm/ظلم</td>\n",
       "      <td>29, 17.0, 7.0, 23.0, 9.0, 24.0, 8.0, 1.0, 1.0,...</td>\n",
       "      <td>Iai</td>\n",
       "      <td>10</td>\n",
       "      <td>اِسِمْ مَفْعُوْلْ</td>\n",
       "      <td>هُوَ</td>\n",
       "      <td>{\"POS\": \"N\", \"PER\": \"3\", \"NUM\": \"SG\", \"GEN\": \"...</td>\n",
       "    </tr>\n",
       "    <tr>\n",
       "      <th>1</th>\n",
       "      <td>ظَالِمٌ</td>\n",
       "      <td>ZaAlimN</td>\n",
       "      <td>|aAiN|</td>\n",
       "      <td>Zlm/ظلم</td>\n",
       "      <td>1, 17.0, 4.0, 23.0, 15.0, 24.0, 8.0, 1.0, 1.0,...</td>\n",
       "      <td>Iai</td>\n",
       "      <td>10</td>\n",
       "      <td>اِسِمْ فَاعِلْ</td>\n",
       "      <td>هُوَ</td>\n",
       "      <td>{\"POS\": \"N\", \"PER\": \"3\", \"NUM\": \"SG\", \"GEN\": \"...</td>\n",
       "    </tr>\n",
       "    <tr>\n",
       "      <th>2</th>\n",
       "      <td>يَظْلِمُ</td>\n",
       "      <td>yaZolimu</td>\n",
       "      <td>ya|oiu|</td>\n",
       "      <td>Zlm/ظلم</td>\n",
       "      <td>35, 17.0, 7.0, 23.0, 15.0, 24.0, 12.0, 1.0, 1....</td>\n",
       "      <td>Iai</td>\n",
       "      <td>10</td>\n",
       "      <td>فِعِلْ مُضَارِعْ</td>\n",
       "      <td>هُوَ</td>\n",
       "      <td>{\"POS\": \"V\", \"aspect\": \"IPFV\", \"tense\": \"PRS/F...</td>\n",
       "    </tr>\n",
       "    <tr>\n",
       "      <th>3</th>\n",
       "      <td>ظَلَمَ</td>\n",
       "      <td>Zalama</td>\n",
       "      <td>|aaa|</td>\n",
       "      <td>Zlm/ظلم</td>\n",
       "      <td>1, 17.0, 5.0, 23.0, 14.0, 24.0, 9.0, 1.0, 1.0,...</td>\n",
       "      <td>Iai</td>\n",
       "      <td>10</td>\n",
       "      <td>فِعِلْ مَاضِ</td>\n",
       "      <td>هُوَ</td>\n",
       "      <td>{\"POS\": \"V\", \"aspect\": \"PFV\", \"tense\": \"PST\", ...</td>\n",
       "    </tr>\n",
       "    <tr>\n",
       "      <th>4</th>\n",
       "      <td>مَظْلُوْمَانِ</td>\n",
       "      <td>maZoluwomaAni</td>\n",
       "      <td>ma|ouwoa|Ani</td>\n",
       "      <td>Zlm/ظلم</td>\n",
       "      <td>29, 17.0, 7.0, 23.0, 9.0, 24.0, 9.0, 1.0, 1.0,...</td>\n",
       "      <td>Iai</td>\n",
       "      <td>10</td>\n",
       "      <td>اِسِمْ مَفْعُوْلْ</td>\n",
       "      <td>هُمَا</td>\n",
       "      <td>{\"POS\": \"N\", \"PER\": \"3\", \"NUM\": \"DU\", \"Verb Fo...</td>\n",
       "    </tr>\n",
       "  </tbody>\n",
       "</table>\n",
       "</div>"
      ],
      "text/plain": [
       "          Arabic     Buckwalter       Pattern     Root  \\\n",
       "0     مَظْلُوْمٌ     maZoluwomN     ma|ouwoN|  Zlm/ظلم   \n",
       "1        ظَالِمٌ        ZaAlimN        |aAiN|  Zlm/ظلم   \n",
       "2       يَظْلِمُ       yaZolimu       ya|oiu|  Zlm/ظلم   \n",
       "3         ظَلَمَ         Zalama         |aaa|  Zlm/ظلم   \n",
       "4  مَظْلُوْمَانِ  maZoluwomaAni  ma|ouwoa|Ani  Zlm/ظلم   \n",
       "\n",
       "                                              Vector Wazan  Wazan Index  \\\n",
       "0  29, 17.0, 7.0, 23.0, 9.0, 24.0, 8.0, 1.0, 1.0,...   Iai           10   \n",
       "1  1, 17.0, 4.0, 23.0, 15.0, 24.0, 8.0, 1.0, 1.0,...   Iai           10   \n",
       "2  35, 17.0, 7.0, 23.0, 15.0, 24.0, 12.0, 1.0, 1....   Iai           10   \n",
       "3  1, 17.0, 5.0, 23.0, 14.0, 24.0, 9.0, 1.0, 1.0,...   Iai           10   \n",
       "4  29, 17.0, 7.0, 23.0, 9.0, 24.0, 9.0, 1.0, 1.0,...   Iai           10   \n",
       "\n",
       "        Type of Word Dhamir                                                MSD  \n",
       "0  اِسِمْ مَفْعُوْلْ   هُوَ  {\"POS\": \"N\", \"PER\": \"3\", \"NUM\": \"SG\", \"GEN\": \"...  \n",
       "1     اِسِمْ فَاعِلْ   هُوَ  {\"POS\": \"N\", \"PER\": \"3\", \"NUM\": \"SG\", \"GEN\": \"...  \n",
       "2   فِعِلْ مُضَارِعْ   هُوَ  {\"POS\": \"V\", \"aspect\": \"IPFV\", \"tense\": \"PRS/F...  \n",
       "3       فِعِلْ مَاضِ   هُوَ  {\"POS\": \"V\", \"aspect\": \"PFV\", \"tense\": \"PST\", ...  \n",
       "4  اِسِمْ مَفْعُوْلْ  هُمَا  {\"POS\": \"N\", \"PER\": \"3\", \"NUM\": \"DU\", \"Verb Fo...  "
      ]
     },
     "execution_count": 2,
     "metadata": {},
     "output_type": "execute_result"
    }
   ],
   "source": [
    "data_input = pd.ExcelFile('Hasil Generate Unique.xlsx').parse(0)\n",
    "data_input.head()"
   ]
  },
  {
   "cell_type": "code",
   "execution_count": 3,
   "id": "dc71014c",
   "metadata": {},
   "outputs": [],
   "source": [
    "data = data_input.to_numpy()"
   ]
  },
  {
   "cell_type": "code",
   "execution_count": 4,
   "id": "2a438c89",
   "metadata": {},
   "outputs": [],
   "source": [
    "import json"
   ]
  },
  {
   "cell_type": "code",
   "execution_count": 5,
   "id": "6efe0ea0",
   "metadata": {},
   "outputs": [
    {
     "ename": "ValueError",
     "evalue": "all the input arrays must have same number of dimensions, but the array at index 0 has 1 dimension(s) and the array at index 1 has 2 dimension(s)",
     "output_type": "error",
     "traceback": [
      "\u001b[1;31m---------------------------------------------------------------------------\u001b[0m",
      "\u001b[1;31mValueError\u001b[0m                                Traceback (most recent call last)",
      "\u001b[1;32m<ipython-input-5-450dc85f8b61>\u001b[0m in \u001b[0;36m<module>\u001b[1;34m\u001b[0m\n\u001b[0;32m     15\u001b[0m     \u001b[1;32mfor\u001b[0m \u001b[0mk\u001b[0m \u001b[1;32min\u001b[0m \u001b[0mrange\u001b[0m\u001b[1;33m(\u001b[0m\u001b[0mjml\u001b[0m\u001b[1;33m)\u001b[0m\u001b[1;33m:\u001b[0m\u001b[1;33m\u001b[0m\u001b[1;33m\u001b[0m\u001b[0m\n\u001b[0;32m     16\u001b[0m         \u001b[0mvector\u001b[0m\u001b[1;33m.\u001b[0m\u001b[0mremove\u001b[0m\u001b[1;33m(\u001b[0m\u001b[1;34m'1.0'\u001b[0m\u001b[1;33m)\u001b[0m\u001b[1;33m\u001b[0m\u001b[1;33m\u001b[0m\u001b[0m\n\u001b[1;32m---> 17\u001b[1;33m     \u001b[0mdata\u001b[0m\u001b[1;33m[\u001b[0m\u001b[0mi\u001b[0m\u001b[1;33m]\u001b[0m \u001b[1;33m=\u001b[0m \u001b[0mnp\u001b[0m\u001b[1;33m.\u001b[0m\u001b[0mappend\u001b[0m\u001b[1;33m(\u001b[0m\u001b[0mdata\u001b[0m\u001b[1;33m[\u001b[0m\u001b[0mi\u001b[0m\u001b[1;33m]\u001b[0m\u001b[1;33m,\u001b[0m\u001b[1;33m[\u001b[0m\u001b[0mvector\u001b[0m\u001b[1;33m]\u001b[0m\u001b[1;33m,\u001b[0m\u001b[0maxis\u001b[0m\u001b[1;33m=\u001b[0m\u001b[1;36m0\u001b[0m\u001b[1;33m)\u001b[0m\u001b[1;33m\u001b[0m\u001b[1;33m\u001b[0m\u001b[0m\n\u001b[0m\u001b[0;32m     18\u001b[0m     \u001b[0msize\u001b[0m\u001b[1;33m.\u001b[0m\u001b[0mappend\u001b[0m\u001b[1;33m(\u001b[0m\u001b[0mlen\u001b[0m\u001b[1;33m(\u001b[0m\u001b[0mvector\u001b[0m\u001b[1;33m)\u001b[0m\u001b[1;33m)\u001b[0m\u001b[1;33m\u001b[0m\u001b[1;33m\u001b[0m\u001b[0m\n",
      "\u001b[1;32m<__array_function__ internals>\u001b[0m in \u001b[0;36mappend\u001b[1;34m(*args, **kwargs)\u001b[0m\n",
      "\u001b[1;32m~\\AppData\\Roaming\\Python\\Python37\\site-packages\\numpy\\lib\\function_base.py\u001b[0m in \u001b[0;36mappend\u001b[1;34m(arr, values, axis)\u001b[0m\n\u001b[0;32m   4669\u001b[0m         \u001b[0mvalues\u001b[0m \u001b[1;33m=\u001b[0m \u001b[0mravel\u001b[0m\u001b[1;33m(\u001b[0m\u001b[0mvalues\u001b[0m\u001b[1;33m)\u001b[0m\u001b[1;33m\u001b[0m\u001b[1;33m\u001b[0m\u001b[0m\n\u001b[0;32m   4670\u001b[0m         \u001b[0maxis\u001b[0m \u001b[1;33m=\u001b[0m \u001b[0marr\u001b[0m\u001b[1;33m.\u001b[0m\u001b[0mndim\u001b[0m\u001b[1;33m-\u001b[0m\u001b[1;36m1\u001b[0m\u001b[1;33m\u001b[0m\u001b[1;33m\u001b[0m\u001b[0m\n\u001b[1;32m-> 4671\u001b[1;33m     \u001b[1;32mreturn\u001b[0m \u001b[0mconcatenate\u001b[0m\u001b[1;33m(\u001b[0m\u001b[1;33m(\u001b[0m\u001b[0marr\u001b[0m\u001b[1;33m,\u001b[0m \u001b[0mvalues\u001b[0m\u001b[1;33m)\u001b[0m\u001b[1;33m,\u001b[0m \u001b[0maxis\u001b[0m\u001b[1;33m=\u001b[0m\u001b[0maxis\u001b[0m\u001b[1;33m)\u001b[0m\u001b[1;33m\u001b[0m\u001b[1;33m\u001b[0m\u001b[0m\n\u001b[0m\u001b[0;32m   4672\u001b[0m \u001b[1;33m\u001b[0m\u001b[0m\n\u001b[0;32m   4673\u001b[0m \u001b[1;33m\u001b[0m\u001b[0m\n",
      "\u001b[1;32m<__array_function__ internals>\u001b[0m in \u001b[0;36mconcatenate\u001b[1;34m(*args, **kwargs)\u001b[0m\n",
      "\u001b[1;31mValueError\u001b[0m: all the input arrays must have same number of dimensions, but the array at index 0 has 1 dimension(s) and the array at index 1 has 2 dimension(s)"
     ]
    }
   ],
   "source": [
    "size = []\n",
    "for i in range(len(data)):\n",
    "#     print(data[i][9])\n",
    "    msd_dict = json.loads(data[i][9])\n",
    "    if (msd_dict['POS'] == 'N'):\n",
    "        msd_dict.pop('PER', None) \n",
    "        data[i][9] = json.dumps(msd_dict)\n",
    "    #vector\n",
    "    vector = data[i][4].split(',')\n",
    "    jml = 0\n",
    "    for j in range(0,len(vector)):\n",
    "        vector[j] = vector[j].lstrip()\n",
    "        if (vector[j] == '1.0'):\n",
    "            jml+=1\n",
    "    for k in range(jml):\n",
    "        vector.remove('1.0')\n",
    "    data[i] = np.append(data[i],[vector],axis=0)\n",
    "    size.append(len(vector))"
   ]
  },
  {
   "cell_type": "code",
   "execution_count": null,
   "id": "c4cb2ea7",
   "metadata": {},
   "outputs": [],
   "source": [
    "df = pd.DataFrame(data=data,  columns=[\"Arabic\",\"Buckwalter\",\"Pattern\",\"Root\",\"Vector\",\"Wazan\",\"Wazan Index\",\"Type of Word\",\"Dhamir\",\"MSD\",\"Vector2\"])\n",
    "df.to_excel(\"Hasil Generate Unique 2.xlsx\")"
   ]
  },
  {
   "cell_type": "code",
   "execution_count": null,
   "id": "f2c64be4",
   "metadata": {
    "scrolled": true
   },
   "outputs": [],
   "source": [
    "from collections import Counter\n",
    "print(*Counter(size))"
   ]
  }
 ],
 "metadata": {
  "kernelspec": {
   "display_name": "Python 3",
   "language": "python",
   "name": "python3"
  },
  "language_info": {
   "codemirror_mode": {
    "name": "ipython",
    "version": 3
   },
   "file_extension": ".py",
   "mimetype": "text/x-python",
   "name": "python",
   "nbconvert_exporter": "python",
   "pygments_lexer": "ipython3",
   "version": "3.7.9"
  }
 },
 "nbformat": 4,
 "nbformat_minor": 5
}
